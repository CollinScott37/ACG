{
  "cells": [
    {
      "attachments": {},
      "cell_type": "markdown",
      "metadata": {
        "id": "SStFeRYbzsss"
      },
      "source": [
        "# Content:\n",
        "## Formatting Data\n",
        "## Models\n",
        "## Results\n",
        "\n",
        "---"
      ]
    },
    {
      "attachments": {},
      "cell_type": "markdown",
      "metadata": {
        "id": "I3y969OY0D_E"
      },
      "source": [
        "# Formatting Data:"
      ]
    },
    {
      "cell_type": "code",
      "execution_count": 2,
      "metadata": {},
      "outputs": [],
      "source": [
        "# Box 0\n",
        "# All imports\n",
        "\n",
        "import numpy as np\n",
        "import pandas as pd\n",
        "import datetime\n",
        "from sklearn.neighbors import KNeighborsClassifier"
      ]
    },
    {
      "cell_type": "code",
      "execution_count": 3,
      "metadata": {
        "colab": {
          "base_uri": "https://localhost:8080/",
          "height": 206
        },
        "id": "5-l6W8_lt1cl",
        "outputId": "2210c805-7bb2-429b-8c76-8ca3a915b233"
      },
      "outputs": [
        {
          "data": {
            "text/html": [
              "<div>\n",
              "<style scoped>\n",
              "    .dataframe tbody tr th:only-of-type {\n",
              "        vertical-align: middle;\n",
              "    }\n",
              "\n",
              "    .dataframe tbody tr th {\n",
              "        vertical-align: top;\n",
              "    }\n",
              "\n",
              "    .dataframe thead th {\n",
              "        text-align: right;\n",
              "    }\n",
              "</style>\n",
              "<table border=\"1\" class=\"dataframe\">\n",
              "  <thead>\n",
              "    <tr style=\"text-align: right;\">\n",
              "      <th></th>\n",
              "      <th>ID</th>\n",
              "      <th>name</th>\n",
              "      <th>category</th>\n",
              "      <th>main_category</th>\n",
              "      <th>currency</th>\n",
              "      <th>deadline</th>\n",
              "      <th>goal</th>\n",
              "      <th>launched</th>\n",
              "      <th>pledged</th>\n",
              "      <th>state</th>\n",
              "      <th>backers</th>\n",
              "      <th>country</th>\n",
              "      <th>usd pledged</th>\n",
              "      <th>usd_pledged_real</th>\n",
              "      <th>usd_goal_real</th>\n",
              "    </tr>\n",
              "  </thead>\n",
              "  <tbody>\n",
              "    <tr>\n",
              "      <th>0</th>\n",
              "      <td>1000002330</td>\n",
              "      <td>The Songs of Adelaide &amp; Abullah</td>\n",
              "      <td>Poetry</td>\n",
              "      <td>Publishing</td>\n",
              "      <td>GBP</td>\n",
              "      <td>2015-10-09</td>\n",
              "      <td>1000.0</td>\n",
              "      <td>2015-08-11 12:12:28</td>\n",
              "      <td>0.0</td>\n",
              "      <td>failed</td>\n",
              "      <td>0</td>\n",
              "      <td>GB</td>\n",
              "      <td>0.0</td>\n",
              "      <td>0.0</td>\n",
              "      <td>1533.95</td>\n",
              "    </tr>\n",
              "    <tr>\n",
              "      <th>1</th>\n",
              "      <td>1000003930</td>\n",
              "      <td>Greeting From Earth: ZGAC Arts Capsule For ET</td>\n",
              "      <td>Narrative Film</td>\n",
              "      <td>Film &amp; Video</td>\n",
              "      <td>USD</td>\n",
              "      <td>2017-11-01</td>\n",
              "      <td>30000.0</td>\n",
              "      <td>2017-09-02 04:43:57</td>\n",
              "      <td>2421.0</td>\n",
              "      <td>failed</td>\n",
              "      <td>15</td>\n",
              "      <td>US</td>\n",
              "      <td>100.0</td>\n",
              "      <td>2421.0</td>\n",
              "      <td>30000.00</td>\n",
              "    </tr>\n",
              "    <tr>\n",
              "      <th>2</th>\n",
              "      <td>1000004038</td>\n",
              "      <td>Where is Hank?</td>\n",
              "      <td>Narrative Film</td>\n",
              "      <td>Film &amp; Video</td>\n",
              "      <td>USD</td>\n",
              "      <td>2013-02-26</td>\n",
              "      <td>45000.0</td>\n",
              "      <td>2013-01-12 00:20:50</td>\n",
              "      <td>220.0</td>\n",
              "      <td>failed</td>\n",
              "      <td>3</td>\n",
              "      <td>US</td>\n",
              "      <td>220.0</td>\n",
              "      <td>220.0</td>\n",
              "      <td>45000.00</td>\n",
              "    </tr>\n",
              "    <tr>\n",
              "      <th>3</th>\n",
              "      <td>1000007540</td>\n",
              "      <td>ToshiCapital Rekordz Needs Help to Complete Album</td>\n",
              "      <td>Music</td>\n",
              "      <td>Music</td>\n",
              "      <td>USD</td>\n",
              "      <td>2012-04-16</td>\n",
              "      <td>5000.0</td>\n",
              "      <td>2012-03-17 03:24:11</td>\n",
              "      <td>1.0</td>\n",
              "      <td>failed</td>\n",
              "      <td>1</td>\n",
              "      <td>US</td>\n",
              "      <td>1.0</td>\n",
              "      <td>1.0</td>\n",
              "      <td>5000.00</td>\n",
              "    </tr>\n",
              "    <tr>\n",
              "      <th>4</th>\n",
              "      <td>1000011046</td>\n",
              "      <td>Community Film Project: The Art of Neighborhoo...</td>\n",
              "      <td>Film &amp; Video</td>\n",
              "      <td>Film &amp; Video</td>\n",
              "      <td>USD</td>\n",
              "      <td>2015-08-29</td>\n",
              "      <td>19500.0</td>\n",
              "      <td>2015-07-04 08:35:03</td>\n",
              "      <td>1283.0</td>\n",
              "      <td>canceled</td>\n",
              "      <td>14</td>\n",
              "      <td>US</td>\n",
              "      <td>1283.0</td>\n",
              "      <td>1283.0</td>\n",
              "      <td>19500.00</td>\n",
              "    </tr>\n",
              "  </tbody>\n",
              "</table>\n",
              "</div>"
            ],
            "text/plain": [
              "           ID                                               name  \\\n",
              "0  1000002330                    The Songs of Adelaide & Abullah   \n",
              "1  1000003930      Greeting From Earth: ZGAC Arts Capsule For ET   \n",
              "2  1000004038                                     Where is Hank?   \n",
              "3  1000007540  ToshiCapital Rekordz Needs Help to Complete Album   \n",
              "4  1000011046  Community Film Project: The Art of Neighborhoo...   \n",
              "\n",
              "         category main_category currency    deadline     goal  \\\n",
              "0          Poetry    Publishing      GBP  2015-10-09   1000.0   \n",
              "1  Narrative Film  Film & Video      USD  2017-11-01  30000.0   \n",
              "2  Narrative Film  Film & Video      USD  2013-02-26  45000.0   \n",
              "3           Music         Music      USD  2012-04-16   5000.0   \n",
              "4    Film & Video  Film & Video      USD  2015-08-29  19500.0   \n",
              "\n",
              "              launched  pledged     state  backers country  usd pledged  \\\n",
              "0  2015-08-11 12:12:28      0.0    failed        0      GB          0.0   \n",
              "1  2017-09-02 04:43:57   2421.0    failed       15      US        100.0   \n",
              "2  2013-01-12 00:20:50    220.0    failed        3      US        220.0   \n",
              "3  2012-03-17 03:24:11      1.0    failed        1      US          1.0   \n",
              "4  2015-07-04 08:35:03   1283.0  canceled       14      US       1283.0   \n",
              "\n",
              "   usd_pledged_real  usd_goal_real  \n",
              "0               0.0        1533.95  \n",
              "1            2421.0       30000.00  \n",
              "2             220.0       45000.00  \n",
              "3               1.0        5000.00  \n",
              "4            1283.0       19500.00  "
            ]
          },
          "execution_count": 3,
          "metadata": {},
          "output_type": "execute_result"
        }
      ],
      "source": [
        "# Box 1\n",
        "# Load the data as is\n",
        "\n",
        "data_frame = pd.read_csv('ks-projects-201801.csv')\n",
        "data_frame.head()"
      ]
    },
    {
      "cell_type": "code",
      "execution_count": 4,
      "metadata": {
        "colab": {
          "base_uri": "https://localhost:8080/"
        },
        "id": "98GqPyAH41W5",
        "outputId": "eeff238b-e3fc-4a25-973e-c49ea1085c88"
      },
      "outputs": [
        {
          "name": "stdout",
          "output_type": "stream",
          "text": [
            "array of labels: shape (331675,)\n",
            "array of feature matrix: shape (331675, 7)\n"
          ]
        }
      ],
      "source": [
        "# Box 2\n",
        "# Format the data to certain columns\n",
        "\n",
        "labels = data_frame.values[:, 9]\n",
        "features = data_frame.values[:, :]\n",
        "#print(features[0])\n",
        "\n",
        "#Clean Up\n",
        "#OLD COLUMN ORDER: category, main_category, deadline, launched, usd_pledged_real, usd_gaol_real\n",
        "features = np.delete(features, [0,1,4,6,8,9,11,12], 1) #remove certain rows\n",
        "\n",
        "#swaps deadline and launch so launch is listed first\n",
        "def Swap(arr, start_index, last_index):\n",
        "    arr[:, [start_index, last_index]] = arr[:, [last_index, start_index]]\n",
        "\n",
        "#NEW COLUMN ORDER: category, main_category, launched, deadline, usd_pledged_real, usd_gaol_real\n",
        "Swap(features, 2, 3)\n",
        "\n",
        "\n",
        "#the states we don't want\n",
        "unwantedLabels = np.array(['canceled', 'live', 'suspended', 'undefined'])\n",
        "\n",
        "#row index of the with states we don't want\n",
        "rowIndexToDelete = np.zeros(labels.shape)\n",
        "for i  in range(len(unwantedLabels)):\n",
        "  rowIndexToDelete += labels == unwantedLabels[i]\n",
        "\n",
        "#convert to bool array\n",
        "rowIndexToDelete = rowIndexToDelete.astype(bool)\n",
        "\n",
        "\n",
        "#delete those rows\n",
        "labels = np.delete(labels, rowIndexToDelete, axis=0)\n",
        "features = np.delete(features, rowIndexToDelete, axis=0)\n",
        "\n",
        "print('array of labels: shape ' + str(np.shape(labels)))\n",
        "print('array of feature matrix: shape ' + str(np.shape(features)))\n",
        "\n",
        "# np.split(data_frame, [9], axis=1)[1].head()"
      ]
    },
    {
      "cell_type": "code",
      "execution_count": 5,
      "metadata": {},
      "outputs": [
        {
          "name": "stdout",
          "output_type": "stream",
          "text": [
            "['Poetry' 'Publishing' '2015-08-11 12:12:28' '2015-10-09' 0 0.0 1533.95]\n",
            "58\n"
          ]
        }
      ],
      "source": [
        "print(features[0])\n",
        "x = datetime.datetime.strptime(features[0][2], \"%Y-%m-%d %H:%M:%S\")\n",
        "y = datetime.datetime.strptime(features[0][3], \"%Y-%m-%d\")\n",
        "\n",
        "print( (y-x).days)"
      ]
    },
    {
      "cell_type": "code",
      "execution_count": 6,
      "metadata": {
        "id": "xjJSm3jj9lG7"
      },
      "outputs": [],
      "source": [
        "#box 3\n",
        "\n",
        "#***********************************\n",
        "#Formating data to read time legibly\n",
        "#***********************************\n",
        "\n",
        "#COLUMN ORDER: category, main_category, launched, deadline, backers, usd_pledged_real, usd_gaol_real\n",
        "\n",
        "\n",
        "for i in range(len(features)):\n",
        "  #convert launched(string) to time in seconds\n",
        "  features[i][2] = datetime.datetime.strptime(features[i][2], \"%Y-%m-%d %H:%M:%S\")\n",
        "  #convert deadline(string) to time in seconds\n",
        "  features[i][3] = datetime.datetime.strptime(features[i][3], \"%Y-%m-%d\")\n",
        "\n",
        "#print(features[0][2])\n",
        "#print(features[0][3])"
      ]
    },
    {
      "cell_type": "code",
      "execution_count": 7,
      "metadata": {
        "id": "aZVwmAJYm8z4"
      },
      "outputs": [
        {
          "name": "stdout",
          "output_type": "stream",
          "text": [
            "(331675, 179)\n"
          ]
        }
      ],
      "source": [
        "#box 4\n",
        "\n",
        "#******************************************************\n",
        "#Hot One Encoding for category and Main category columns\n",
        "#******************************************************\n",
        "\n",
        "\n",
        "#COLUMN ORDER: sub_category, main_category, launched, deadline, backers, usd_pledged_real, usd_gaol_real\n",
        "\n",
        "MAIN_CAT_SIZE =  np.unique(features[:,1]).size\n",
        "SUB_CAT_SIZE = np.unique(features[:,0]).size\n",
        "\n",
        "#new shape should be (331675, 179)\n",
        "#Hot One Encoding for both sub_cat and main_cat FOR FEATURES\n",
        "nf = np.zeros((len(features), 179), dtype=object)\n",
        "print(nf.shape)\n",
        "subCatUnique = np.unique(features[:,0])\n",
        "mainCatUnique = np.unique(features[:,1])\n",
        "for i in range(len(features)):\n",
        "  subMatch = (subCatUnique == features[i][0]).astype(int)\n",
        "  mainMatch = (mainCatUnique == features[i][1]).astype(int)\n",
        "  x = np.insert(features[i],1,subMatch)\n",
        "  y = np.insert(x,-5, mainMatch)\n",
        "  y = y[1:]\n",
        "  #print(y)\n",
        "  nf[i] = np.append(y[:SUB_CAT_SIZE],y[SUB_CAT_SIZE+1:])\n",
        "\n",
        " "
      ]
    },
    {
      "cell_type": "code",
      "execution_count": 8,
      "metadata": {
        "colab": {
          "base_uri": "https://localhost:8080/"
        },
        "id": "EXTcqSUwhM1f",
        "outputId": "fb6f0008-fbe4-4ecd-d7f5-4a9ffef13a51"
      },
      "outputs": [
        {
          "name": "stdout",
          "output_type": "stream",
          "text": [
            "['failed' 'successful']\n"
          ]
        }
      ],
      "source": [
        "#box 5\n",
        "\n",
        "#***************************\n",
        "#Hot one encoding for labels\n",
        "#***************************\n",
        "\n",
        "uniqueLabels = np.unique(labels)\n",
        "print(uniqueLabels)\n",
        "\n",
        "mask = labels == uniqueLabels[1]\n",
        "\n",
        "labels = mask.astype(int)\n",
        "\n",
        "\n",
        "#0 == failed\n",
        "#1 == successful"
      ]
    },
    {
      "cell_type": "code",
      "execution_count": 9,
      "metadata": {
        "id": "0iD5tfHYyP_c"
      },
      "outputs": [],
      "source": [
        "#box 6\n",
        "\n",
        "#*********************************\n",
        "#Maintains an old copy of features\n",
        "#*********************************\n",
        "\n",
        "oldFeatures = features;\n",
        "features = nf"
      ]
    },
    {
      "cell_type": "code",
      "execution_count": 10,
      "metadata": {},
      "outputs": [
        {
          "name": "stdout",
          "output_type": "stream",
          "text": [
            "(331675, 178)\n"
          ]
        }
      ],
      "source": [
        "#box 7 \n",
        "\n",
        "#*************************************************************************\n",
        "#Replace Launched and Deadline with Duration (Added to the end of the row)\n",
        "#*************************************************************************\n",
        "\n",
        "nf = np.zeros( (len(features), 178), dtype=object)\n",
        "print(nf.shape)\n",
        "for i in range(len(features)):\n",
        "    launched = features[i][-5]\n",
        "    deadline = features[i][-4]\n",
        "    duration = (deadline - launched).days\n",
        "    x = np.copy(features[i])\n",
        "    x = np.delete(x, [-4, -5])\n",
        "    #print(x)\n",
        "    nf[i] = np.append(x, duration)\n",
        "\n",
        "#new shape should be (331675, 178)"
      ]
    },
    {
      "cell_type": "code",
      "execution_count": 11,
      "metadata": {},
      "outputs": [],
      "source": [
        "#box 6\n",
        "\n",
        "#*****************************************************\n",
        "#Maintains an old copy of features with datetime in it\n",
        "#*****************************************************\n",
        "oldFeaturesTime = features\n",
        "features = nf\n"
      ]
    },
    {
      "cell_type": "code",
      "execution_count": 1,
      "metadata": {
        "colab": {
          "base_uri": "https://localhost:8080/"
        },
        "id": "8oXXs7fSfxI_",
        "outputId": "739a7a08-8d76-4c96-cb78-1bc4b15a53f9"
      },
      "outputs": [
        {
          "ename": "NameError",
          "evalue": "name 'np' is not defined",
          "output_type": "error",
          "traceback": [
            "\u001b[1;31m---------------------------------------------------------------------------\u001b[0m",
            "\u001b[1;31mNameError\u001b[0m                                 Traceback (most recent call last)",
            "Cell \u001b[1;32mIn[1], line 7\u001b[0m\n\u001b[0;32m      1\u001b[0m \u001b[39m#box 7\u001b[39;00m\n\u001b[0;32m      2\u001b[0m \n\u001b[0;32m      3\u001b[0m \u001b[39m#***********************************************************\u001b[39;00m\n\u001b[0;32m      4\u001b[0m \u001b[39m#Generates %80 training data set and %20 validation data set\u001b[39;00m\n\u001b[0;32m      5\u001b[0m \u001b[39m#***********************************************************\u001b[39;00m\n\u001b[1;32m----> 7\u001b[0m np\u001b[39m.\u001b[39mrandom\u001b[39m.\u001b[39mseed(seed\u001b[39m=\u001b[39m\u001b[39m1\u001b[39m)\n\u001b[0;32m      8\u001b[0m \u001b[39mdef\u001b[39;00m \u001b[39mMakeSets\u001b[39m (features, labels):\n\u001b[0;32m      9\u001b[0m   \u001b[39m#20% of the data\u001b[39;00m\n\u001b[0;32m     10\u001b[0m   validAmount \u001b[39m=\u001b[39m \u001b[39mlen\u001b[39m(features) \u001b[39m*\u001b[39m \u001b[39m0.2\u001b[39m\n",
            "\u001b[1;31mNameError\u001b[0m: name 'np' is not defined"
          ]
        }
      ],
      "source": [
        "#box 7\n",
        "\n",
        "#***********************************************************\n",
        "#Generates %80 training data set and %20 validation data set\n",
        "#***********************************************************\n",
        "\n",
        "np.random.seed(seed=1)\n",
        "def MakeSets (features, labels):\n",
        "  #20% of the data\n",
        "  validAmount = len(features) * 0.2\n",
        "\n",
        "  #list of all possible indicies inisde features\n",
        "  indices = np.arange(0, len(features))\n",
        "\n",
        "  #random choose indicies (20% of features)\n",
        "  validIndicies = np.random.choice(indices, size=int(validAmount), replace=False)\n",
        "  validIndicies = np.sort(validIndicies)\n",
        "\n",
        "  #list of all possible indicies inisde features\n",
        "  indices = np.arange(0, len(features))\n",
        "\n",
        "  #random choose indicies (20% of features)\n",
        "  validIndicies = np.random.choice(indices, size=int(validAmount), replace=False)\n",
        "\n",
        "  #The Validation Set\n",
        "  validSet = np.empty((int(validAmount), len(features[0])))\n",
        "  validLabels = np.empty((int(validAmount)))\n",
        "\n",
        "  #add the respective indicies for the validation set\n",
        "  for i in range(len(validSet)):\n",
        "      validSet[i] = np.copy(features[validIndicies[i]])\n",
        "      validLabels[i] = np.copy(labels[validIndicies[i]])\n",
        "\n",
        "  #remove those indicies from features\n",
        "  trainingSet = np.delete(features, validIndicies, axis=0)\n",
        "  trainingLabels = np.delete(labels, validIndicies);\n",
        "  return (validSet, validLabels, trainingSet, trainingLabels)\n",
        "\n",
        "\n"
      ]
    },
    {
      "cell_type": "code",
      "execution_count": 14,
      "metadata": {
        "colab": {
          "base_uri": "https://localhost:8080/",
          "height": 380
        },
        "id": "ZeMsJlz2v5xG",
        "outputId": "363403d2-bcb7-446f-f4cb-ca59e1a10080"
      },
      "outputs": [
        {
          "name": "stdout",
          "output_type": "stream",
          "text": [
            "(178,)\n",
            "[0 1 0 0 1 0 0 0 0 0] vs [0. 1. 0. 0. 1. 0. 0. 0. 0. 0.]\n"
          ]
        },
        {
          "data": {
            "text/plain": [
              "0.9994271500716062"
            ]
          },
          "execution_count": 14,
          "metadata": {},
          "output_type": "execute_result"
        }
      ],
      "source": []
    },
    {
      "attachments": {},
      "cell_type": "markdown",
      "metadata": {
        "id": "WbzUlb9CzUZk"
      },
      "source": [
        "# Models\n",
        "## insert all models here\n",
        "\n",
        "### Feauture Selection:\n",
        "### PCA:\n"
      ]
    },
    {
      "attachments": {},
      "cell_type": "markdown",
      "metadata": {},
      "source": [
        "## KNN"
      ]
    },
    {
      "cell_type": "code",
      "execution_count": 16,
      "metadata": {},
      "outputs": [
        {
          "name": "stdout",
          "output_type": "stream",
          "text": [
            "(178,)\n",
            "[0 1 0 0 1 0 0 0 0 0] vs [0. 1. 0. 0. 1. 0. 0. 0. 0. 0.]\n"
          ]
        }
      ],
      "source": [
        "#box 8\n",
        "validSet, validLabels, trainingSet, trainingLabels = MakeSets(features, labels)\n",
        "print(test[5].shape)\n",
        "\n",
        "knn = KNeighborsClassifier(n_neighbors=10, weights='uniform', p=2)\n",
        "knn.fit(trainingSet, trainingLabels)\n",
        "print(f\"{knn.predict(validSet[0:10])} vs {validLabels[0:10]}\")\n",
        "knn.score(TvalidSet, TvalidLabels)"
      ]
    },
    {
      "attachments": {},
      "cell_type": "markdown",
      "metadata": {
        "id": "O-6YAaoo0MQq"
      },
      "source": [
        "# Results"
      ]
    }
  ],
  "metadata": {
    "colab": {
      "provenance": []
    },
    "kernelspec": {
      "display_name": "Python 3",
      "name": "python3"
    },
    "language_info": {
      "codemirror_mode": {
        "name": "ipython",
        "version": 3
      },
      "file_extension": ".py",
      "mimetype": "text/x-python",
      "name": "python",
      "nbconvert_exporter": "python",
      "pygments_lexer": "ipython3",
      "version": "3.10.9"
    }
  },
  "nbformat": 4,
  "nbformat_minor": 0
}
