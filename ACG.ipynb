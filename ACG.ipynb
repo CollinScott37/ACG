{
  "cells": [
    {
      "attachments": {},
      "cell_type": "markdown",
      "metadata": {
        "id": "SStFeRYbzsss"
      },
      "source": [
        "# Content:\n",
        "## Formatting Data\n",
        "## Models\n",
        "## Results\n",
        "\n",
        "---"
      ]
    },
    {
      "attachments": {},
      "cell_type": "markdown",
      "metadata": {
        "id": "I3y969OY0D_E"
      },
      "source": [
        "# Formatting Data:"
      ]
    },
    {
      "cell_type": "code",
      "execution_count": null,
      "metadata": {},
      "outputs": [],
      "source": [
        "# Box 0\n",
        "# All imports\n",
        "\n",
        "import numpy as np\n",
        "import pandas as pd\n",
        "import datetime\n",
        "from sklearn.neighbors import KNeighborsClassifier"
      ]
    },
    {
      "cell_type": "code",
      "execution_count": null,
      "metadata": {
        "colab": {
          "base_uri": "https://localhost:8080/",
          "height": 206
        },
        "id": "5-l6W8_lt1cl",
        "outputId": "2210c805-7bb2-429b-8c76-8ca3a915b233"
      },
      "outputs": [],
      "source": [
        "# Box 1\n",
        "# Load the data as is\n",
        "\n",
        "data_frame = pd.read_csv('ks-projects-201801.csv')\n",
        "data_frame.head()"
      ]
    },
    {
      "cell_type": "code",
      "execution_count": null,
      "metadata": {
        "colab": {
          "base_uri": "https://localhost:8080/"
        },
        "id": "98GqPyAH41W5",
        "outputId": "eeff238b-e3fc-4a25-973e-c49ea1085c88"
      },
      "outputs": [],
      "source": [
        "# Box 2\n",
        "# Format the data to certain columns\n",
        "\n",
        "labels = data_frame.values[:, 9]\n",
        "features = data_frame.values[:, :]\n",
        "#print(features[0])\n",
        "\n",
        "#Clean Up\n",
        "#OLD COLUMN ORDER: category, main_category, deadline, launched, usd_pledged_real, usd_gaol_real\n",
        "features = np.delete(features, [0,1,4,6,8,9,11,12], 1) #remove certain rows\n",
        "\n",
        "#swaps deadline and launch so launch is listed first\n",
        "def Swap(arr, start_index, last_index):\n",
        "    arr[:, [start_index, last_index]] = arr[:, [last_index, start_index]]\n",
        "\n",
        "#NEW COLUMN ORDER: category, main_category, launched, deadline, usd_pledged_real, usd_gaol_real\n",
        "Swap(features, 2, 3)\n",
        "\n",
        "\n",
        "#the states we don't want\n",
        "unwantedLabels = np.array(['canceled', 'live', 'suspended', 'undefined'])\n",
        "\n",
        "#row index of the with states we don't want\n",
        "rowIndexToDelete = np.zeros(labels.shape)\n",
        "for i  in range(len(unwantedLabels)):\n",
        "  rowIndexToDelete += labels == unwantedLabels[i]\n",
        "\n",
        "#convert to bool array\n",
        "rowIndexToDelete = rowIndexToDelete.astype(bool)\n",
        "\n",
        "\n",
        "#delete those rows\n",
        "labels = np.delete(labels, rowIndexToDelete, axis=0)\n",
        "features = np.delete(features, rowIndexToDelete, axis=0)\n",
        "\n",
        "print('array of labels: shape ' + str(np.shape(labels)))\n",
        "print('array of feature matrix: shape ' + str(np.shape(features)))\n",
        "\n",
        "# np.split(data_frame, [9], axis=1)[1].head()"
      ]
    },
    {
      "cell_type": "code",
      "execution_count": null,
      "metadata": {},
      "outputs": [],
      "source": [
        "print(features[0])\n",
        "x = datetime.datetime.strptime(features[0][2], \"%Y-%m-%d %H:%M:%S\")\n",
        "y = datetime.datetime.strptime(features[0][3], \"%Y-%m-%d\")\n",
        "\n",
        "print( (y-x).days)"
      ]
    },
    {
      "cell_type": "code",
      "execution_count": null,
      "metadata": {
        "id": "xjJSm3jj9lG7"
      },
      "outputs": [],
      "source": [
        "#box 3\n",
        "\n",
        "#***********************************\n",
        "#Formating data to read time legibly\n",
        "#***********************************\n",
        "\n",
        "#COLUMN ORDER: category, main_category, launched, deadline, backers, usd_pledged_real, usd_gaol_real\n",
        "\n",
        "\n",
        "for i in range(len(features)):\n",
        "  #convert launched(string) to time in seconds\n",
        "  features[i][2] = datetime.datetime.strptime(features[i][2], \"%Y-%m-%d %H:%M:%S\")\n",
        "  #convert deadline(string) to time in seconds\n",
        "  features[i][3] = datetime.datetime.strptime(features[i][3], \"%Y-%m-%d\")\n",
        "\n",
        "#print(features[0][2])\n",
        "#print(features[0][3])"
      ]
    },
    {
      "cell_type": "code",
      "execution_count": null,
      "metadata": {
        "id": "aZVwmAJYm8z4"
      },
      "outputs": [],
      "source": [
        "#box 4\n",
        "\n",
        "#******************************************************\n",
        "#Hot One Encoding for category and Main category columns\n",
        "#******************************************************\n",
        "\n",
        "\n",
        "#COLUMN ORDER: sub_category, main_category, launched, deadline, backers, usd_pledged_real, usd_gaol_real\n",
        "\n",
        "MAIN_CAT_SIZE =  np.unique(features[:,1]).size\n",
        "SUB_CAT_SIZE = np.unique(features[:,0]).size\n",
        "\n",
        "#new shape should be (331675, 179)\n",
        "#Hot One Encoding for both sub_cat and main_cat FOR FEATURES\n",
        "nf = np.zeros((len(features), 179), dtype=object)\n",
        "print(nf.shape)\n",
        "subCatUnique = np.unique(features[:,0])\n",
        "mainCatUnique = np.unique(features[:,1])\n",
        "for i in range(len(features)):\n",
        "  subMatch = (subCatUnique == features[i][0]).astype(int)\n",
        "  mainMatch = (mainCatUnique == features[i][1]).astype(int)\n",
        "  x = np.insert(features[i],1,subMatch)\n",
        "  y = np.insert(x,-5, mainMatch)\n",
        "  y = y[1:]\n",
        "  #print(y)\n",
        "  nf[i] = np.append(y[:SUB_CAT_SIZE],y[SUB_CAT_SIZE+1:])\n",
        "\n",
        " "
      ]
    },
    {
      "cell_type": "code",
      "execution_count": null,
      "metadata": {
        "colab": {
          "base_uri": "https://localhost:8080/"
        },
        "id": "EXTcqSUwhM1f",
        "outputId": "fb6f0008-fbe4-4ecd-d7f5-4a9ffef13a51"
      },
      "outputs": [],
      "source": [
        "#box 5\n",
        "\n",
        "#***************************\n",
        "#Hot one encoding for labels\n",
        "#***************************\n",
        "\n",
        "uniqueLabels = np.unique(labels)\n",
        "print(uniqueLabels)\n",
        "\n",
        "mask = labels == uniqueLabels[1]\n",
        "\n",
        "labels = mask.astype(int)\n",
        "\n",
        "\n",
        "#0 == failed\n",
        "#1 == successful"
      ]
    },
    {
      "cell_type": "code",
      "execution_count": null,
      "metadata": {
        "id": "0iD5tfHYyP_c"
      },
      "outputs": [],
      "source": [
        "#box 6\n",
        "\n",
        "#*********************************\n",
        "#Maintains an old copy of features\n",
        "#*********************************\n",
        "\n",
        "oldFeatures = features;\n",
        "features = nf"
      ]
    },
    {
      "cell_type": "code",
      "execution_count": null,
      "metadata": {},
      "outputs": [],
      "source": [
        "#box 7 \n",
        "\n",
        "#*************************************************************************\n",
        "#Replace Launched and Deadline with Duration (Added to the end of the row)\n",
        "#*************************************************************************\n",
        "\n",
        "nf = np.zeros( (len(features), 178), dtype=object)\n",
        "print(nf.shape)\n",
        "for i in range(len(features)):\n",
        "    launched = features[i][-5]\n",
        "    deadline = features[i][-4]\n",
        "    duration = (deadline - launched).days\n",
        "    x = np.copy(features[i])\n",
        "    x = np.delete(x, [-4, -5])\n",
        "    #print(x)\n",
        "    nf[i] = np.append(x, duration)\n",
        "\n",
        "#new shape should be (331675, 178)"
      ]
    },
    {
      "cell_type": "code",
      "execution_count": null,
      "metadata": {},
      "outputs": [],
      "source": [
        "#box 6\n",
        "\n",
        "#*****************************************************\n",
        "#Maintains an old copy of features with datetime in it\n",
        "#*****************************************************\n",
        "oldFeaturesTime = features\n",
        "features = nf\n"
      ]
    },
    {
      "cell_type": "code",
      "execution_count": null,
      "metadata": {
        "colab": {
          "base_uri": "https://localhost:8080/"
        },
        "id": "8oXXs7fSfxI_",
        "outputId": "739a7a08-8d76-4c96-cb78-1bc4b15a53f9"
      },
      "outputs": [],
      "source": [
        "#box 7\n",
        "\n",
        "#***********************************************************\n",
        "#Generates %80 training data set and %20 validation data set\n",
        "#***********************************************************\n",
        "\n",
        "np.random.seed(seed=1)\n",
        "def IDK (features, labels):\n",
        "  #20% of the data\n",
        "  validAmount = len(features) * 0.2\n",
        "\n",
        "  #list of all possible indicies inisde features\n",
        "  indices = np.arange(0, len(features))\n",
        "\n",
        "  #random choose indicies (20% of features)\n",
        "  validIndicies = np.random.choice(indices, size=int(validAmount), replace=False)\n",
        "  validIndicies = np.sort(validIndicies)\n",
        "\n",
        "  #list of all possible indicies inisde features\n",
        "  indices = np.arange(0, len(features))\n",
        "\n",
        "  #random choose indicies (20% of features)\n",
        "  validIndicies = np.random.choice(indices, size=int(validAmount), replace=False)\n",
        "\n",
        "  #The Validation Set\n",
        "  validSet = np.empty((int(validAmount), len(features[0])))\n",
        "  validLabels = np.empty((int(validAmount)))\n",
        "\n",
        "  #add the respective indicies for the validation set\n",
        "  for i in range(len(validSet)):\n",
        "      validSet[i] = np.copy(features[validIndicies[i]])\n",
        "      validLabels[i] = np.copy(labels[validIndicies[i]])\n",
        "\n",
        "  #remove those indicies from features\n",
        "  trainingSet = np.delete(features, validIndicies, axis=0)\n",
        "  trainingLabels = np.delete(labels, validIndicies);\n",
        "  return (validSet, validLabels, trainingSet, trainingLabels)\n",
        "\n",
        "validSet, validLabels, trainingSet, trainingLabels = IDK(features, labels)\n",
        "\n",
        "print(\"validSet:\")\n",
        "print(validSet.shape)\n",
        "print(\"validLabels:\")\n",
        "print(validLabels.shape)\n",
        "print(\"trainingSet:\")\n",
        "print(trainingSet.shape)\n",
        "print(\"trainingLabels:\")\n",
        "print(trainingLabels.shape);\n",
        "\n",
        "print(\"features:\")\n",
        "print(features.shape)\n",
        "print(\"labels:\")\n",
        "print(labels.shape);\n"
      ]
    },
    {
      "cell_type": "code",
      "execution_count": null,
      "metadata": {
        "id": "hD8PVE-l1wIa"
      },
      "outputs": [],
      "source": [
        "#7.5 testing\n",
        "test = features #remove launched and dealine\n",
        "\n",
        "TvalidSet, TvalidLabels, TtrainingSet, TtrainingLabels = IDK(test, labels)\n",
        "\n"
      ]
    },
    {
      "cell_type": "code",
      "execution_count": null,
      "metadata": {
        "colab": {
          "base_uri": "https://localhost:8080/",
          "height": 380
        },
        "id": "ZeMsJlz2v5xG",
        "outputId": "363403d2-bcb7-446f-f4cb-ca59e1a10080"
      },
      "outputs": [],
      "source": [
        "#box 8\n",
        "print(test[5].shape)\n",
        "#print(TtrainingSet)\n",
        "#print(TvalidSet)\n",
        "#nrows, ncols = TtrainingSet.shape\n",
        "#dtype = {'names': ['f{}'.format(i) for i in range(ncols)], 'formats': ncols * [TtrainingSet.dtype]}\n",
        "#duplicate = np.intersect1d(TtrainingSet.view(dtype), TvalidSet.view(dtype)).view(TtrainingSet.dtype).reshape(-1, TtrainingSet.shape[1])\n",
        "#print(duplicate.shape)\n",
        "knn = KNeighborsClassifier(n_neighbors=10, weights='uniform', p=2)\n",
        "knn.fit(TtrainingSet, TtrainingLabels)\n",
        "print(f\"{knn.predict(TvalidSet[0:10])} vs {TvalidLabels[0:10]}\")\n",
        "knn.score(TvalidSet, TvalidLabels)"
      ]
    },
    {
      "attachments": {},
      "cell_type": "markdown",
      "metadata": {
        "id": "WbzUlb9CzUZk"
      },
      "source": [
        "# Models\n",
        "## insert all models here\n",
        "\n",
        "### Feauture Selection:\n",
        "### PCA:\n"
      ]
    },
    {
      "attachments": {},
      "cell_type": "markdown",
      "metadata": {
        "id": "O-6YAaoo0MQq"
      },
      "source": [
        "# Results"
      ]
    }
  ],
  "metadata": {
    "colab": {
      "provenance": []
    },
    "kernelspec": {
      "display_name": "Python 3",
      "name": "python3"
    },
    "language_info": {
      "codemirror_mode": {
        "name": "ipython",
        "version": 3
      },
      "file_extension": ".py",
      "mimetype": "text/x-python",
      "name": "python",
      "nbconvert_exporter": "python",
      "pygments_lexer": "ipython3",
      "version": "3.10.6"
    }
  },
  "nbformat": 4,
  "nbformat_minor": 0
}
